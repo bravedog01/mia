{
 "cells": [
  {
   "cell_type": "code",
   "execution_count": 7,
   "id": "9035b56e-b902-40a6-82b7-12548ca2bc84",
   "metadata": {},
   "outputs": [],
   "source": [
    "import os\n",
    "from openai import OpenAI\n",
    "client = OpenAI(\n",
    "    base_url=\"https://yunwu.ai/v1\",                  # 若使用 Yunwu.ai，可指定 base_url；否则默认 api.openai.com :contentReference[oaicite:1]{index=1}\n",
    "    api_key=\"sk-IKK3x426pmLquyBLHTPlSN7mGBIALsUP1pxCwU8Ye5bwF2SG\",             # 建议通过环境变量配置您的 Key :contentReference[oaicite:2]{index=2}\n",
    "    timeout=200\n",
    ")"
   ]
  },
  {
   "cell_type": "code",
   "execution_count": 8,
   "id": "cc5ccfe8-e8d9-4974-959a-563655bbf60d",
   "metadata": {},
   "outputs": [],
   "source": [
    "from openai import OpenAI\n",
    "\n",
    "resp=client.completions.create(\n",
    "  model=\"gpt-3.5-turbo-instruct\",\n",
    "  prompt=\"The 2015 Nigerian Senate election in Bauchi State was held on March 28, 2015, to elect members of the Nigerian Senate to represent Bauchi State. Isah Hamma representing Bauchi Central, Malam Wakili\",\n",
    "  max_tokens=1,\n",
    "  temperature=0\n",
    ")"
   ]
  },
  {
   "cell_type": "code",
   "execution_count": 10,
   "id": "71b2e106-a71c-453f-bc2c-696b3554d3c7",
   "metadata": {},
   "outputs": [
    {
     "data": {
      "text/plain": [
       "' representing'"
      ]
     },
     "execution_count": 10,
     "metadata": {},
     "output_type": "execute_result"
    }
   ],
   "source": [
    "resp.choices[0].text"
   ]
  },
  {
   "cell_type": "code",
   "execution_count": 3,
   "id": "f061380f-df87-4764-85c2-6bf64d43109c",
   "metadata": {},
   "outputs": [
    {
     "name": "stderr",
     "output_type": "stream",
     "text": [
      "/root/miniconda3/envs/PETAL/lib/python3.9/site-packages/tqdm/auto.py:21: TqdmWarning: IProgress not found. Please update jupyter and ipywidgets. See https://ipywidgets.readthedocs.io/en/stable/user_install.html\n",
      "  from .autonotebook import tqdm as notebook_tqdm\n"
     ]
    }
   ],
   "source": [
    "from datasets import load_dataset\n",
    "ds = load_dataset(\n",
    "                \"parquet\",\n",
    "                data_files=\"./data/WiKiMIA-24/WikiMIA_length32-00000-of-00001-*.parquet\",\n",
    "                split=\"train\"\n",
    "        )"
   ]
  },
  {
   "cell_type": "code",
   "execution_count": 4,
   "id": "f7285cd0-7c7e-43b5-8934-274a0bb7cf24",
   "metadata": {},
   "outputs": [],
   "source": [
    "inputs = ds['input'][77:79]\n",
    "labels = ds['label'][77:79]"
   ]
  },
  {
   "cell_type": "code",
   "execution_count": 5,
   "id": "3a399523-1b7a-4c19-8d42-57ee4e2f6359",
   "metadata": {},
   "outputs": [
    {
     "data": {
      "text/plain": [
       "['The 2015 Nigerian Senate election in Bauchi State was held on March 28, 2015, to elect members of the Nigerian Senate to represent Bauchi State. Isah Hamma representing Bauchi Central, Malam Wakili',\n",
       " \"The Battle of the Shaer gas field took place between the Islamic State of Iraq and the Levant (ISIL) and the Syrian government for the control over the Sha'er gas field during\"]"
      ]
     },
     "execution_count": 5,
     "metadata": {},
     "output_type": "execute_result"
    }
   ],
   "source": [
    "inputs"
   ]
  },
  {
   "cell_type": "code",
   "execution_count": 31,
   "id": "e865ec0a-ff74-477e-841c-ada758f7b229",
   "metadata": {},
   "outputs": [
    {
     "data": {
      "text/plain": [
       "'est'"
      ]
     },
     "execution_count": 31,
     "metadata": {},
     "output_type": "execute_result"
    }
   ],
   "source": [
    "resp.choices[0].text"
   ]
  },
  {
   "cell_type": "code",
   "execution_count": null,
   "id": "1dc394e2-e011-408d-b7f8-ff91595570eb",
   "metadata": {},
   "outputs": [],
   "source": [
    "from modelscope.hub.snapshot_download import snapshot_download  # :contentReference[oaicite:16]{index=16}\n",
    "\n",
    "model_map = {\n",
    "    'voidful/pythia-160m':   '/root/autodl-fs/pythia-160m'\n",
    "}\n",
    "\n",
    "for repo_id, folder in model_map.items():\n",
    "    print(f'Downloading {repo_id} → {folder}')\n",
    "    snapshot_download(repo_id=repo_id, local_dir=folder)\n"
   ]
  },
  {
   "cell_type": "code",
   "execution_count": 7,
   "id": "a0f99e99-1061-4bbe-a97d-39bbd03e275d",
   "metadata": {},
   "outputs": [],
   "source": [
    "import torch\n",
    "import gc\n",
    "\n",
    "# 在内存敏感操作前手动清理\n",
    "gc.collect()\n",
    "torch.cuda.empty_cache()"
   ]
  },
  {
   "cell_type": "code",
   "execution_count": 34,
   "id": "ec296ae0-7e2d-4b02-9497-394e9bf789cc",
   "metadata": {},
   "outputs": [],
   "source": [
    "resp = client.completions.create(\n",
    "            model=\"gpt-3.5-turbo-instruct\",  # 若不支持，可改为对应的 Instruct 模型\n",
    "            prompt=\"please introduce y\",                             # 使用 prompt 参数\n",
    "            max_tokens=1,                            # 生成 1 个 token\n",
    "            temperature=0.0                             # 请求返回每个 token 的 log 概率\n",
    "        )\n",
    "         # 从 Completions 响应取出生成 token 与对数概率\n",
    "gen_token = resp.choices[0].text          "
   ]
  },
  {
   "cell_type": "code",
   "execution_count": 8,
   "id": "7125b697-a018-4895-b771-90efc1021e88",
   "metadata": {},
   "outputs": [
    {
     "name": "stdout",
     "output_type": "stream",
     "text": [
      "请求失败，状态码：429\n",
      "错误信息： {\"error\":{\"message\":\"当前分组上游负载已饱和，请稍后再试 (request id: 20250630153148326562622WhNZSUiF)\",\"type\":\"new_api_error\",\"param\":\"\",\"code\":\" \"}}\n"
     ]
    }
   ],
   "source": [
    "import requests\n",
    "import json\n",
    "\n",
    "\n",
    "\n",
    "API_KEY = \"sk-IKK3x426pmLquyBLHTPlSN7mGBIALsUP1pxCwU8Ye5bwF2SG\"\n",
    "API_URL = \"https://yunwu.ai/v1/completions\"\n",
    "\n",
    "# —— 请求头 —— #\n",
    "headers = {\n",
    "    \"Authorization\": f\"Bearer {API_KEY}\",\n",
    "    \"Content-Type\": \"application/json\"\n",
    "}\n",
    "\n",
    "# —— 请求体 —— #\n",
    "payload = {\n",
    "    \"model\": \"gpt-3.5-turbo-instruct\",  # 示例模型 ID\n",
    "    \"prompt\": \"please introduce\",  # 你希望模型完成的提示\n",
    "    \"max_tokens\": 1,        # 最多生成的 token 数\n",
    "    \"temperature\": 0,        # 采样温度\n",
    "    \"top_p\": 1,              # nucleus 采样参数\n",
    "    \"n\": 1,                  # 返回多少个候选\n",
    "    \"stream\": False,         # 是否使用流式输出\n",
    "    \"logprobs\": True,        # 不需要返回各 token 概率\n",
    "}\n",
    "\n",
    "# —— 发送请求 —— #\n",
    "response = requests.post(API_URL, headers=headers, json=payload)\n",
    "\n",
    "# —— 处理响应 —— #\n",
    "if response.status_code == 200:\n",
    "    data = response.json()\n",
    "    # 打印完整 JSON\n",
    "    print(json.dumps(data, ensure_ascii=False, indent=2))\n",
    "\n",
    "    # 或者只打印生成的文本：\n",
    "    text = data[\"choices\"][0][\"text\"]\n",
    "    print(\"生成结果：\", text)\n",
    "else:\n",
    "    print(f\"请求失败，状态码：{response.status_code}\")\n",
    "    print(\"错误信息：\", response.text)\n"
   ]
  },
  {
   "cell_type": "code",
   "execution_count": 4,
   "id": "baa9d341-26d4-42be-ab26-b6ce046bf4ad",
   "metadata": {},
   "outputs": [],
   "source": [
    "resp = client.chat.completions.create(\n",
    "            model=\"gpt-3.5-turbo\",  # 若不支持，可改为对应的 Instruct 模型\n",
    "            messages=[{\"role\":\"user\",\"content\":\"please iner sdshu\"}],                             # 使用 prompt 参数\n",
    "            max_tokens=1,                            # 生成 1 个 token\n",
    "            temperature=0.0                               # 请求返回每个 token 的 log 概率\n",
    "        )"
   ]
  },
  {
   "cell_type": "code",
   "execution_count": 3,
   "id": "13fdb82f-588f-4112-b4e1-b58803bc8b80",
   "metadata": {},
   "outputs": [
    {
     "data": {
      "text/plain": [
       "'I'"
      ]
     },
     "execution_count": 3,
     "metadata": {},
     "output_type": "execute_result"
    }
   ],
   "source": [
    "resp.choices[0].logprobs.content[0].token"
   ]
  },
  {
   "cell_type": "code",
   "execution_count": 8,
   "id": "3c3d1bfa-2254-424a-8869-8e8071b05b67",
   "metadata": {},
   "outputs": [
    {
     "data": {
      "text/plain": [
       "'I'"
      ]
     },
     "execution_count": 8,
     "metadata": {},
     "output_type": "execute_result"
    }
   ],
   "source": [
    "resp.choices[0].message.content[0]"
   ]
  },
  {
   "cell_type": "code",
   "execution_count": null,
   "id": "7f3229f0-a695-40d0-b502-5f0f4913d60b",
   "metadata": {},
   "outputs": [],
   "source": []
  }
 ],
 "metadata": {
  "kernelspec": {
   "display_name": "Python (PETAL)",
   "language": "python",
   "name": "petal"
  },
  "language_info": {
   "codemirror_mode": {
    "name": "ipython",
    "version": 3
   },
   "file_extension": ".py",
   "mimetype": "text/x-python",
   "name": "python",
   "nbconvert_exporter": "python",
   "pygments_lexer": "ipython3",
   "version": "3.9.23"
  }
 },
 "nbformat": 4,
 "nbformat_minor": 5
}
